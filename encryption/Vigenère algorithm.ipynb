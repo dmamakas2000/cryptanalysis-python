{
 "cells": [
  {
   "cell_type": "code",
   "execution_count": 1,
   "id": "e00b1696",
   "metadata": {},
   "outputs": [],
   "source": [
    "import string\n",
    "from nltk.tokenize import word_tokenize"
   ]
  },
  {
   "cell_type": "code",
   "execution_count": 2,
   "id": "3d22670d",
   "metadata": {},
   "outputs": [],
   "source": [
    "# This is the initial format of the message we want to apply the algorithm on\n",
    "initial_message = 'Espresso is generally thicker than coffee brewed by other methods, \\\n",
    "with a viscosity similar to that of warm honey. This is due to the higher concentration of \\\n",
    "suspended and dissolved solids, and the crema on top (a foam with a creamy consistency). \\\n",
    "As a result of the pressurized brewing process, the flavors and chemicals in a typical cup of \\\n",
    "espresso are very concentrated. Espresso has more caffeine per unit volume than most coffee beverages.'"
   ]
  },
  {
   "cell_type": "code",
   "execution_count": 3,
   "id": "2ebc0b44",
   "metadata": {},
   "outputs": [
    {
     "data": {
      "text/plain": [
       "'Espresso is generally thicker than coffee brewed by other methods, with a viscosity similar to that of warm honey. This is due to the higher concentration of suspended and dissolved solids, and the crema on top (a foam with a creamy consistency). As a result of the pressurized brewing process, the flavors and chemicals in a typical cup of espresso are very concentrated. Espresso has more caffeine per unit volume than most coffee beverages.'"
      ]
     },
     "execution_count": 3,
     "metadata": {},
     "output_type": "execute_result"
    }
   ],
   "source": [
    "# Print the initial message\n",
    "initial_message"
   ]
  },
  {
   "cell_type": "code",
   "execution_count": 4,
   "id": "f401c197",
   "metadata": {},
   "outputs": [
    {
     "name": "stdout",
     "output_type": "stream",
     "text": [
      "The initial message contains 443 characters.\n"
     ]
    }
   ],
   "source": [
    "# Print the length of it\n",
    "print('The initial message contains ' + str(len(initial_message)) + ' characters.')"
   ]
  },
  {
   "cell_type": "code",
   "execution_count": 5,
   "id": "d0c415a3",
   "metadata": {},
   "outputs": [],
   "source": [
    "# Preprocess the text\n",
    "tokens = word_tokenize(initial_message)\n",
    "new_tokens = []\n",
    "\n",
    "# Loop through tokens\n",
    "for token in tokens:\n",
    "    if token.isalpha():\n",
    "        new_tokens.append(token)\n",
    "\n",
    "# Finally define the plaintext\n",
    "plaintext = ''.join(new_tokens).upper()"
   ]
  },
  {
   "cell_type": "code",
   "execution_count": 6,
   "id": "b84ca3e9",
   "metadata": {},
   "outputs": [
    {
     "data": {
      "text/plain": [
       "'ESPRESSOISGENERALLYTHICKERTHANCOFFEEBREWEDBYOTHERMETHODSWITHAVISCOSITYSIMILARTOTHATOFWARMHONEYTHISISDUETOTHEHIGHERCONCENTRATIONOFSUSPENDEDANDDISSOLVEDSOLIDSANDTHECREMAONTOPAFOAMWITHACREAMYCONSISTENCYASARESULTOFTHEPRESSURIZEDBREWINGPROCESSTHEFLAVORSANDCHEMICALSINATYPICALCUPOFESPRESSOAREVERYCONCENTRATEDESPRESSOHASMORECAFFEINEPERUNITVOLUMETHANMOSTCOFFEEBEVERAGES'"
      ]
     },
     "execution_count": 6,
     "metadata": {},
     "output_type": "execute_result"
    }
   ],
   "source": [
    "# Print the plaintext\n",
    "plaintext"
   ]
  },
  {
   "cell_type": "code",
   "execution_count": 7,
   "id": "0ec22a50",
   "metadata": {},
   "outputs": [
    {
     "name": "stdout",
     "output_type": "stream",
     "text": [
      "The plaintext contains 361 characters.\n"
     ]
    }
   ],
   "source": [
    "# Print the length of the plaintext\n",
    "print('The plaintext contains ' + str(len(plaintext)) + ' characters.')"
   ]
  },
  {
   "cell_type": "code",
   "execution_count": 8,
   "id": "672f4fcc",
   "metadata": {},
   "outputs": [],
   "source": [
    "# Define our key\n",
    "key = 'AVOCADO'"
   ]
  },
  {
   "cell_type": "code",
   "execution_count": 9,
   "id": "f902379c",
   "metadata": {},
   "outputs": [],
   "source": [
    "# Define our keystream\n",
    "keystream = round(len(plaintext) / len(key)) * key\n",
    "keystream = keystream[:len(plaintext)]"
   ]
  },
  {
   "cell_type": "code",
   "execution_count": 10,
   "id": "883d68d7",
   "metadata": {},
   "outputs": [
    {
     "data": {
      "text/plain": [
       "'AVOCADOAVOCADOAVOCADOAVOCADOAVOCADOAVOCADOAVOCADOAVOCADOAVOCADOAVOCADOAVOCADOAVOCADOAVOCADOAVOCADOAVOCADOAVOCADOAVOCADOAVOCADOAVOCADOAVOCADOAVOCADOAVOCADOAVOCADOAVOCADOAVOCADOAVOCADOAVOCADOAVOCADOAVOCADOAVOCADOAVOCADOAVOCADOAVOCADOAVOCADOAVOCADOAVOCADOAVOCADOAVOCADOAVOCADOAVOCADOAVOCADOAVOCADOAVOCADOAVOCADOAVOCADOAVOCADOAVOCADOAVOCADOAVOCADOAVOCADOAVOCADOAVOC'"
      ]
     },
     "execution_count": 10,
     "metadata": {},
     "output_type": "execute_result"
    }
   ],
   "source": [
    "# Print the keystream\n",
    "keystream"
   ]
  },
  {
   "cell_type": "code",
   "execution_count": 11,
   "id": "edd84932",
   "metadata": {},
   "outputs": [
    {
     "name": "stdout",
     "output_type": "stream",
     "text": [
      "The keystream contains 361 characters.\n"
     ]
    }
   ],
   "source": [
    "# And also print it's length\n",
    "print('The keystream contains ' + str(len(keystream)) + ' characters.')"
   ]
  },
  {
   "cell_type": "code",
   "execution_count": 12,
   "id": "84406cbf",
   "metadata": {},
   "outputs": [],
   "source": [
    "# Apply the algorithm\n",
    "cipher = ''\n",
    "for x in range(0, len(plaintext)):\n",
    "    c_letter = string.ascii_uppercase[(string.ascii_uppercase.index(plaintext[x]) + \\\n",
    "                                       string.ascii_uppercase.index(keystream[x])) - len(string.ascii_uppercase)]\n",
    "    cipher = cipher + c_letter"
   ]
  },
  {
   "cell_type": "code",
   "execution_count": 13,
   "id": "157ef666",
   "metadata": {},
   "outputs": [
    {
     "data": {
      "text/plain": [
       "'ENDTEVGODGIEQSRVZNYWVIXYGRWVAIQQFISEWFGWHRBTCVHHFMZHJOGGWDHJAYWSXCUIWMSDAKLDFTJHJAWCFROTMKCNZMVHLGINRWEWCTCSJIJVEMQQNFSNOFCTLCNJTUUVDEIRGDDBDYWUSRZVZRUOOWDNOPDWVEXFGMDCNOCRAICAHKKTKOCMSCMBQOIGKSWSNXMCSDFENINTRTTCSRRHGSPFKZHRBMSYIQUPMCEEVGTCSHLDJOMGCNGQHZAKCDZSDBCTBDIXONCXDOASUPUSSNCCRHJEMMEOQQEIHTAWSDZGRRHGSJVCSPCRZQCFISIISREUINDHXOOIMZHJAQAONHEOITEZPGVHFABSU'"
      ]
     },
     "execution_count": 13,
     "metadata": {},
     "output_type": "execute_result"
    }
   ],
   "source": [
    "# Print the cipher\n",
    "cipher"
   ]
  },
  {
   "cell_type": "code",
   "execution_count": 14,
   "id": "444b6379",
   "metadata": {},
   "outputs": [
    {
     "name": "stdout",
     "output_type": "stream",
     "text": [
      "The cipher contains 361 characters.\n"
     ]
    }
   ],
   "source": [
    "# And verify that it has the correct length\n",
    "print('The cipher contains ' + str(len(cipher)) + ' characters.')"
   ]
  },
  {
   "cell_type": "code",
   "execution_count": null,
   "id": "488b492f",
   "metadata": {},
   "outputs": [],
   "source": []
  }
 ],
 "metadata": {
  "kernelspec": {
   "display_name": "Python 3 (ipykernel)",
   "language": "python",
   "name": "python3"
  },
  "language_info": {
   "codemirror_mode": {
    "name": "ipython",
    "version": 3
   },
   "file_extension": ".py",
   "mimetype": "text/x-python",
   "name": "python",
   "nbconvert_exporter": "python",
   "pygments_lexer": "ipython3",
   "version": "3.8.15"
  }
 },
 "nbformat": 4,
 "nbformat_minor": 5
}
