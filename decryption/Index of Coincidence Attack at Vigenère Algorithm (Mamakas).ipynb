{
 "cells": [
  {
   "cell_type": "code",
   "execution_count": 1,
   "id": "3551e46e",
   "metadata": {},
   "outputs": [],
   "source": [
    "\"\"\"\n",
    "    Index of Coincidence Attack using Python\n",
    "    Author: Dimitrios Mamakas (f3322209)\n",
    "\"\"\"\n",
    "\n",
    "import string"
   ]
  },
  {
   "cell_type": "code",
   "execution_count": 2,
   "id": "879fb8c9",
   "metadata": {},
   "outputs": [],
   "source": [
    "# ------------------------ Function definitions ------------------------"
   ]
  },
  {
   "cell_type": "code",
   "execution_count": 3,
   "id": "b82182eb",
   "metadata": {},
   "outputs": [],
   "source": [
    "\"\"\"\n",
    "    Calculates the Index of Coincidence score for a given sequence of characters of the English alphabet.\n",
    "\"\"\"\n",
    "def calculate_ioc(group):\n",
    "    if len(group) == 1 or len(group) == 0:\n",
    "        # Return 0 if the sequence contains less than a character\n",
    "        return 0\n",
    "    else:\n",
    "        # Otherwise, perform the analysis\n",
    "        ioc = 0\n",
    "        char_freq = {}\n",
    "\n",
    "        # Create character frequencies\n",
    "        for char in group:\n",
    "            if char not in char_freq:\n",
    "                char_freq[char] = group.count(char)\n",
    "\n",
    "        # Loop through all 26 letters of the english alphabet\n",
    "        for char in string.ascii_uppercase:\n",
    "            if char in char_freq:\n",
    "                # Add this term to the index of coincidence\n",
    "                ioc = ioc + ((char_freq[char]/len(group)) * ((char_freq[char] - 1)/(len(group) - 1)))\n",
    "\n",
    "        # Return the result\n",
    "        return ioc"
   ]
  },
  {
   "cell_type": "code",
   "execution_count": 4,
   "id": "c2715234",
   "metadata": {},
   "outputs": [],
   "source": [
    "\"\"\"\n",
    "    Performs the decription of the Vigenère algorithm with a known key.\n",
    "\"\"\"\n",
    "def decrypt_vigenere(key, cipher):\n",
    "    # Define our keystream\n",
    "    keystream = (round(len(cipher) / len(key)) + 1) * key\n",
    "    keystream = keystream[:len(cipher)]\n",
    "    \n",
    "    # Initial original text\n",
    "    original = ''\n",
    "    for x in range(0, len(cipher)):\n",
    "        if string.ascii_uppercase.index(cipher[x]) - string.ascii_uppercase.index(keystream[x]) >= 0:\n",
    "            letter = string.ascii_uppercase[string.ascii_uppercase.index(cipher[x]) - \\\n",
    "                                            string.ascii_uppercase.index(keystream[x])]\n",
    "            original = original + letter\n",
    "        else:\n",
    "            letter = string.ascii_uppercase[len(string.ascii_uppercase) - abs(string.ascii_uppercase.index(cipher[x]) \\\n",
    "                                                                              - string.ascii_uppercase.index(keystream[x]))]\n",
    "            original = original + letter\n",
    "    \n",
    "    # Return the result\n",
    "    return original"
   ]
  },
  {
   "cell_type": "code",
   "execution_count": 5,
   "id": "e02158e5",
   "metadata": {},
   "outputs": [],
   "source": [
    "\"\"\"\n",
    "    Shifts the text (group) to a specific ammount of spaces (characters).\n",
    "    \n",
    "    Returns the text in the format of a list.\n",
    "\"\"\"\n",
    "def shift(text, amount):\n",
    "    shifted = ''\n",
    "    letters = string.ascii_uppercase\n",
    "    for letter in text:\n",
    "        shifted += letters[(letters.index(letter)-amount) % len(letters)]\n",
    "    return [x for x in shifted]"
   ]
  },
  {
   "cell_type": "code",
   "execution_count": 6,
   "id": "83ebecb6",
   "metadata": {},
   "outputs": [],
   "source": [
    "\"\"\"\n",
    "    Calculates the score (matching) given a sequence and a specific language.\n",
    "\"\"\"\n",
    "def calculate_score(freqs, english):\n",
    "    score = 0\n",
    "    for letter in string.ascii_uppercase:\n",
    "        if letter in freqs:\n",
    "            score = score + (freqs[letter] * english[letter])\n",
    "    return score"
   ]
  },
  {
   "cell_type": "code",
   "execution_count": 7,
   "id": "7517ef8b",
   "metadata": {},
   "outputs": [],
   "source": [
    "# ------------------------ Index of Coincidence Attack ------------------------"
   ]
  },
  {
   "cell_type": "code",
   "execution_count": 8,
   "id": "152a93b8",
   "metadata": {},
   "outputs": [],
   "source": [
    "# Load the contents\n",
    "with open('ciphertext.txt') as f:\n",
    "    contents = f.readlines()"
   ]
  },
  {
   "cell_type": "code",
   "execution_count": 9,
   "id": "44883680",
   "metadata": {},
   "outputs": [],
   "source": [
    "# Load the cipher\n",
    "cipher = contents[0]"
   ]
  },
  {
   "cell_type": "code",
   "execution_count": 10,
   "id": "b27d4cff",
   "metadata": {},
   "outputs": [
    {
     "data": {
      "text/plain": [
       "'CXSFBOIKLEAIBKMMCETMUBAOJSSLUFXDJHHAZBBZYXCKVPBGNHSYBOMRXCSPUXBOJHOWBUQBJBWMPXASBXIFNKAZBKBZEXBDOKZYBOOHOJGPUFKGRDFXNIQSHJVXLKMUNHFXPBQUNTOGQFBBJIHLNITNCXSKFMMBRUGBAJWQJBZRCLAHCYJXELTDBYBEVCMRDFDHEQAXBJSFJFBGQKATAPIRCXSHAIGMNWOMVSMZLJCKFYCSFUOKRMIQCETMUBJHXIDAROMZWTHARPCOYEGXQIGHVCCKNIJDQQJBBRZHBYRXAQQBJBHHJEISJBZHGEMQBFSVVBACXMVXAQQLNIOKRDWNMULVRMBSQQHAHJIMBQZHABBQHJCFVQQFJJSMUBMEOUQMBCBGJJFXFMWMBUCGGEMHATSLPBVCJDHLNKLNWEHAROAONSWXF'"
      ]
     },
     "execution_count": 10,
     "metadata": {},
     "output_type": "execute_result"
    }
   ],
   "source": [
    "# Print the cipher\n",
    "cipher"
   ]
  },
  {
   "cell_type": "code",
   "execution_count": 11,
   "id": "04f5ea27",
   "metadata": {},
   "outputs": [],
   "source": [
    "# Canditate keys based on this certain scenario\n",
    "canditate_keys = [4, 5, 6, 7, 8]"
   ]
  },
  {
   "cell_type": "code",
   "execution_count": 12,
   "id": "21ab43fc",
   "metadata": {},
   "outputs": [],
   "source": [
    "# Initialize the IOC score dictionary\n",
    "ioc_scores = {\n",
    "    4: 0,\n",
    "    5: 0,\n",
    "    6: 0,\n",
    "    7: 0,\n",
    "    8: 0,\n",
    "}\n",
    "\n",
    "# Loop through the canditate keys\n",
    "for canditate_key in canditate_keys:\n",
    "    # Split into groups\n",
    "    groups = []\n",
    "    for group in range(0, canditate_key):\n",
    "        # Loop through the cipher\n",
    "        inner_group = []\n",
    "        for letter in range(group, len(cipher), canditate_key):\n",
    "            inner_group.append(cipher[letter])\n",
    "        groups.append(inner_group)\n",
    "    \n",
    "    # Find the average IOC score of all groups\n",
    "    acg_ioc_score = 0\n",
    "    for group in groups:\n",
    "        acg_ioc_score = acg_ioc_score + calculate_ioc(group)\n",
    "    \n",
    "    # Update the dictionary\n",
    "    ioc_scores[canditate_key] = acg_ioc_score"
   ]
  },
  {
   "cell_type": "code",
   "execution_count": 13,
   "id": "beec96df",
   "metadata": {},
   "outputs": [
    {
     "name": "stdout",
     "output_type": "stream",
     "text": [
      "{4: 0.21816328421833006, 5: 0.22097275886369708, 6: 0.28190451690355217, 7: 0.3077065128889561, 8: 0.5535734705546026}\n"
     ]
    }
   ],
   "source": [
    "# Print the IOC distribution\n",
    "print(ioc_scores)"
   ]
  },
  {
   "cell_type": "code",
   "execution_count": 14,
   "id": "7e27a246",
   "metadata": {},
   "outputs": [],
   "source": [
    "# Chose the key length with the highest value\n",
    "key_length = list(ioc_scores.keys())[list(ioc_scores.values()).index(max(list(ioc_scores.values())))]"
   ]
  },
  {
   "cell_type": "code",
   "execution_count": 15,
   "id": "8ed6f951",
   "metadata": {},
   "outputs": [
    {
     "name": "stdout",
     "output_type": "stream",
     "text": [
      "Index of Coincidence analysis decided that the key length is equal to: 8\n"
     ]
    }
   ],
   "source": [
    "# And print it\n",
    "print('Index of Coincidence analysis decided that the key length is equal to: ' + str(key_length))"
   ]
  },
  {
   "cell_type": "code",
   "execution_count": 16,
   "id": "0e853f62",
   "metadata": {},
   "outputs": [],
   "source": [
    "# English letter frequencies\n",
    "english_letter_freqs = {\n",
    "    'A': 0.08167, \n",
    "    'B': 0.01492, \n",
    "    'C': 0.02782, \n",
    "    'D': 0.04253, \n",
    "    'E': 0.12702, \n",
    "    'F': 0.02228, \n",
    "    'G': 0.02015,\n",
    "    'H': 0.06094, \n",
    "    'I': 0.06966, \n",
    "    'J': 0.00153, \n",
    "    'K': 0.00772, \n",
    "    'L': 0.04025, \n",
    "    'M': 0.02406, \n",
    "    'N': 0.06749,\n",
    "    'O': 0.07507, \n",
    "    'P': 0.01929, \n",
    "    'Q': 0.00095, \n",
    "    'R': 0.05987, \n",
    "    'S': 0.06327, \n",
    "    'T': 0.09056, \n",
    "    'U': 0.02758,\n",
    "    'V': 0.00978, \n",
    "    'W': 0.02360, \n",
    "    'X': 0.00150, \n",
    "    'Y': 0.01974, \n",
    "    'Z': 0.00074\n",
    "}"
   ]
  },
  {
   "cell_type": "code",
   "execution_count": 17,
   "id": "491c4188",
   "metadata": {},
   "outputs": [
    {
     "name": "stdout",
     "output_type": "stream",
     "text": [
      "- Decrypted message: \n",
      "THEMORALCOMPONENTOFTHESPACESHIPEARTHMETAPHORISTHEREFORESOMEWHATPARADOXICALITCASTSHUMANSASUNGRATEFULFORGIFTSWHICHINREALITYTHEYNEVERRECEIVEDANDITCASTSALLOTHERSPECIESINMORALLYPOSITIVEROLESINLIFESUPPORTSYSTEMWITHHUMANSASTHEONLYNEGATIVEACTORSBUTWEAREPARTOFTHEBIOSPHEREANDTHESUPPOSEDLYIMMORALBEHAVIOURISIDENTICALTOWHATALLOTHERSPECIESDOWHENTIMESAREGOODEXCEPTTHATHUMANSALONETRYTOMITIGATETHEEFFECTOFTHATRESPONSEONTHEIRDESCENDANTSANDONOTHERSPECIES\n"
     ]
    }
   ],
   "source": [
    "# Decrypt the message\n",
    "groups = []\n",
    "for group in range(0, key_length):\n",
    "    # Loop through the cipher\n",
    "    inner_group = []\n",
    "    for letter in range(group, len(cipher), key_length):\n",
    "        inner_group.append(cipher[letter])\n",
    "    groups.append(inner_group)\n",
    "\n",
    "# Start with an empty key\n",
    "key_ = ''\n",
    "\n",
    "# Loop each group\n",
    "for group in groups:\n",
    "    scores = {}\n",
    "\n",
    "    # For each group, we need to perform exactly 25 shifts\n",
    "    for shift_ in range(0, 26):\n",
    "        # Group's letter frequencies\n",
    "        group_freqs = {}\n",
    "\n",
    "        # Perform a shift\n",
    "        grp = shift(''.join(group), shift_)\n",
    "\n",
    "        # For each letter of the new group\n",
    "        for letter in grp:\n",
    "            # Count the frequencies of this group\n",
    "            group_freqs[letter] = grp.count(letter) / len(grp)\n",
    "\n",
    "        # Calculate the score for this shift\n",
    "        score = calculate_score(group_freqs, english_letter_freqs)\n",
    "\n",
    "        scores[shift_] = score\n",
    "\n",
    "    # Find the correct letter for this group\n",
    "    letter = string.ascii_uppercase[list(scores)[list(scores.values()).index(max(list(scores.values())))]]\n",
    "    key_ = key_ + letter\n",
    "\n",
    "# Prints\n",
    "print('- Decrypted message: ')\n",
    "print(decrypt_vigenere(key_, cipher))"
   ]
  },
  {
   "cell_type": "code",
   "execution_count": null,
   "id": "d48dfc25",
   "metadata": {},
   "outputs": [],
   "source": []
  }
 ],
 "metadata": {
  "kernelspec": {
   "display_name": "Python 3 (ipykernel)",
   "language": "python",
   "name": "python3"
  },
  "language_info": {
   "codemirror_mode": {
    "name": "ipython",
    "version": 3
   },
   "file_extension": ".py",
   "mimetype": "text/x-python",
   "name": "python",
   "nbconvert_exporter": "python",
   "pygments_lexer": "ipython3",
   "version": "3.8.15"
  }
 },
 "nbformat": 4,
 "nbformat_minor": 5
}
