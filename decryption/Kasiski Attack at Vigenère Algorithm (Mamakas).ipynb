{
 "cells": [
  {
   "cell_type": "code",
   "execution_count": 1,
   "id": "f3a9eabe",
   "metadata": {},
   "outputs": [],
   "source": [
    "\"\"\"\n",
    "    Kasiski Attack using Python\n",
    "    Author: Dimitrios Mamakas (f3322209)\n",
    "\"\"\"\n",
    "\n",
    "import string\n",
    "from nltk import ngrams\n",
    "from collections import Counter"
   ]
  },
  {
   "cell_type": "code",
   "execution_count": 2,
   "id": "88e9f9a4",
   "metadata": {},
   "outputs": [],
   "source": [
    "# ------------------------ Function definitions ------------------------"
   ]
  },
  {
   "cell_type": "code",
   "execution_count": 3,
   "id": "6ca3f12d",
   "metadata": {},
   "outputs": [],
   "source": [
    "\"\"\"\n",
    "    Performs the decription of the Vigenère algorithm with a known key.\n",
    "\"\"\"\n",
    "def decrypt_vigenere(key, cipher):\n",
    "    # Define our keystream\n",
    "    keystream = (round(len(cipher) / len(key)) + 1) * key\n",
    "    keystream = keystream[:len(cipher)]\n",
    "    \n",
    "    # Initial original text\n",
    "    original = ''\n",
    "    for x in range(0, len(cipher)):\n",
    "        if string.ascii_uppercase.index(cipher[x]) - string.ascii_uppercase.index(keystream[x]) >= 0:\n",
    "            letter = string.ascii_uppercase[string.ascii_uppercase.index(cipher[x]) - \\\n",
    "                                            string.ascii_uppercase.index(keystream[x])]\n",
    "            original = original + letter\n",
    "        else:\n",
    "            letter = string.ascii_uppercase[len(string.ascii_uppercase) - abs(string.ascii_uppercase.index(cipher[x]) \\\n",
    "                                                                              - string.ascii_uppercase.index(keystream[x]))]\n",
    "            original = original + letter\n",
    "    \n",
    "    # Return the result\n",
    "    return original"
   ]
  },
  {
   "cell_type": "code",
   "execution_count": 4,
   "id": "30d1c118",
   "metadata": {},
   "outputs": [],
   "source": [
    "\"\"\"\n",
    "    Shifts the text (group) to a specific ammount of spaces (characters).\n",
    "    \n",
    "    Returns the text in the format of a list.\n",
    "\"\"\"\n",
    "def shift(text, amount):\n",
    "    shifted = ''\n",
    "    letters = string.ascii_uppercase\n",
    "    for letter in text:\n",
    "        shifted += letters[(letters.index(letter)-amount) % len(letters)]\n",
    "    return [x for x in shifted]"
   ]
  },
  {
   "cell_type": "code",
   "execution_count": 5,
   "id": "4f076e0d",
   "metadata": {},
   "outputs": [],
   "source": [
    "\"\"\"\n",
    "    Calculates the score (matching) given a sequence and a specific language.\n",
    "\"\"\"\n",
    "def calculate_score(freqs, english):\n",
    "    score = 0\n",
    "    for letter in string.ascii_uppercase:\n",
    "        if letter in freqs:\n",
    "            score = score + (freqs[letter] * english[letter])\n",
    "    return score"
   ]
  },
  {
   "cell_type": "code",
   "execution_count": 6,
   "id": "8d6fbdb1",
   "metadata": {},
   "outputs": [],
   "source": [
    "# ------------------------ Kasiski Attack ------------------------"
   ]
  },
  {
   "cell_type": "code",
   "execution_count": 7,
   "id": "cedc67ea",
   "metadata": {},
   "outputs": [],
   "source": [
    "# Load the contents\n",
    "with open('ciphertext.txt') as f:\n",
    "    contents = f.readlines()"
   ]
  },
  {
   "cell_type": "code",
   "execution_count": 8,
   "id": "11f55b4e",
   "metadata": {},
   "outputs": [],
   "source": [
    "# Load the cipher\n",
    "cipher = contents[0]"
   ]
  },
  {
   "cell_type": "code",
   "execution_count": 9,
   "id": "135b6755",
   "metadata": {},
   "outputs": [
    {
     "data": {
      "text/plain": [
       "'CXSFBOIKLEAIBKMMCETMUBAOJSSLUFXDJHHAZBBZYXCKVPBGNHSYBOMRXCSPUXBOJHOWBUQBJBWMPXASBXIFNKAZBKBZEXBDOKZYBOOHOJGPUFKGRDFXNIQSHJVXLKMUNHFXPBQUNTOGQFBBJIHLNITNCXSKFMMBRUGBAJWQJBZRCLAHCYJXELTDBYBEVCMRDFDHEQAXBJSFJFBGQKATAPIRCXSHAIGMNWOMVSMZLJCKFYCSFUOKRMIQCETMUBJHXIDAROMZWTHARPCOYEGXQIGHVCCKNIJDQQJBBRZHBYRXAQQBJBHHJEISJBZHGEMQBFSVVBACXMVXAQQLNIOKRDWNMULVRMBSQQHAHJIMBQZHABBQHJCFVQQFJJSMUBMEOUQMBCBGJJFXFMWMBUCGGEMHATSLPBVCJDHLNKLNWEHAROAONSWXF'"
      ]
     },
     "execution_count": 9,
     "metadata": {},
     "output_type": "execute_result"
    }
   ],
   "source": [
    "# Print the cipher\n",
    "cipher"
   ]
  },
  {
   "cell_type": "code",
   "execution_count": 10,
   "id": "01d74c14",
   "metadata": {},
   "outputs": [],
   "source": [
    "# Define our n, for n-grams\n",
    "N = 6"
   ]
  },
  {
   "cell_type": "code",
   "execution_count": 11,
   "id": "c17fdcd5",
   "metadata": {},
   "outputs": [],
   "source": [
    "# Get the n-gram counts for given n\n",
    "ngram_counts = Counter(ngrams([*cipher], N))"
   ]
  },
  {
   "cell_type": "code",
   "execution_count": 12,
   "id": "195a94a8",
   "metadata": {},
   "outputs": [
    {
     "data": {
      "text/plain": [
       "[(('C', 'E', 'T', 'M', 'U', 'B'), 2),\n",
       " (('C', 'X', 'S', 'F', 'B', 'O'), 1),\n",
       " (('X', 'S', 'F', 'B', 'O', 'I'), 1),\n",
       " (('S', 'F', 'B', 'O', 'I', 'K'), 1),\n",
       " (('F', 'B', 'O', 'I', 'K', 'L'), 1),\n",
       " (('B', 'O', 'I', 'K', 'L', 'E'), 1),\n",
       " (('O', 'I', 'K', 'L', 'E', 'A'), 1),\n",
       " (('I', 'K', 'L', 'E', 'A', 'I'), 1),\n",
       " (('K', 'L', 'E', 'A', 'I', 'B'), 1),\n",
       " (('L', 'E', 'A', 'I', 'B', 'K'), 1)]"
      ]
     },
     "execution_count": 12,
     "metadata": {},
     "output_type": "execute_result"
    }
   ],
   "source": [
    "# Print the 10 most common matches for given n\n",
    "ngram_counts.most_common(10)"
   ]
  },
  {
   "cell_type": "code",
   "execution_count": 13,
   "id": "ea0e8c31",
   "metadata": {},
   "outputs": [],
   "source": [
    "# Extract the first pattern\n",
    "pattern = ''.join(ngram_counts.most_common(10)[0][0])"
   ]
  },
  {
   "cell_type": "code",
   "execution_count": 14,
   "id": "ef36617d",
   "metadata": {},
   "outputs": [],
   "source": [
    "# Compute the positions\n",
    "positions = {}\n",
    "\n",
    "for pos, character in enumerate(cipher):\n",
    "    # Create the specific n-gram\n",
    "    n_gram = cipher[pos : pos + N]\n",
    "    \n",
    "    # Check if this specific n-gram belongs to our dictionary, and if not, add it\n",
    "    if n_gram in positions:\n",
    "        positions[n_gram].append(pos)\n",
    "    else:\n",
    "        positions[n_gram] = [pos]"
   ]
  },
  {
   "cell_type": "code",
   "execution_count": 15,
   "id": "68ec1b06",
   "metadata": {},
   "outputs": [],
   "source": [
    "# Compute the distance values\n",
    "d_values = []\n",
    "for dist in range(0, len(positions[pattern])-1):\n",
    "    d_values.append(positions[pattern][dist+1] - positions[pattern][dist])"
   ]
  },
  {
   "cell_type": "code",
   "execution_count": 16,
   "id": "9c082a3b",
   "metadata": {},
   "outputs": [],
   "source": [
    "# These are the canditate keys based on our excercise scenario\n",
    "canditate_keys = [4, 5, 6, 7, 8]"
   ]
  },
  {
   "cell_type": "code",
   "execution_count": 17,
   "id": "77fdb162",
   "metadata": {},
   "outputs": [],
   "source": [
    "# Find the ones who divide the distance values\n",
    "divisions = {\n",
    "    4: 0,\n",
    "    5: 0,\n",
    "    6: 0,\n",
    "    7: 0,\n",
    "    8: 0\n",
    "}\n",
    "\n",
    "# Loop through the canditate keys\n",
    "for canditate_key in canditate_keys:\n",
    "    for d_value in d_values:\n",
    "        if d_value % canditate_key == 0:\n",
    "            # This specific key, divides this specific distance value\n",
    "            divisions[canditate_key] = divisions[canditate_key] + 1\n",
    "\n",
    "# Finally, find our potential keys to try\n",
    "keys = []\n",
    "for k in range(0, len(list(divisions.values()))):\n",
    "    if list(divisions.values())[k] != 0:\n",
    "        # Drop the keys which don't divide any distance value at all\n",
    "        keys.append(list(divisions.keys())[k])"
   ]
  },
  {
   "cell_type": "code",
   "execution_count": 18,
   "id": "222eb4a4",
   "metadata": {},
   "outputs": [],
   "source": [
    "# English letter frequencies\n",
    "english_letter_freqs = {\n",
    "    'A': 0.08167, \n",
    "    'B': 0.01492, \n",
    "    'C': 0.02782, \n",
    "    'D': 0.04253, \n",
    "    'E': 0.12702, \n",
    "    'F': 0.02228, \n",
    "    'G': 0.02015,\n",
    "    'H': 0.06094, \n",
    "    'I': 0.06966, \n",
    "    'J': 0.00153, \n",
    "    'K': 0.00772, \n",
    "    'L': 0.04025, \n",
    "    'M': 0.02406, \n",
    "    'N': 0.06749,\n",
    "    'O': 0.07507, \n",
    "    'P': 0.01929, \n",
    "    'Q': 0.00095, \n",
    "    'R': 0.05987, \n",
    "    'S': 0.06327, \n",
    "    'T': 0.09056, \n",
    "    'U': 0.02758,\n",
    "    'V': 0.00978, \n",
    "    'W': 0.02360, \n",
    "    'X': 0.00150, \n",
    "    'Y': 0.01974, \n",
    "    'Z': 0.00074\n",
    "}"
   ]
  },
  {
   "cell_type": "code",
   "execution_count": 19,
   "id": "10951b01",
   "metadata": {},
   "outputs": [
    {
     "name": "stdout",
     "output_type": "stream",
     "text": [
      "- Testing key size: 4\n",
      "- For key size: 4 the key found was: JXOT\n",
      "- Decrypted message: \n",
      "TAEMSRURCHMPSNYTTHFTLEMVAVESLIJKAKTHQENGPAORMSNNEKEFSRYYOFEWLANVAKADSXCIAEITGAMZSAUMENMGSNNGVANKFNLFSRAOFMSWLIWNIGREELCZYMHECNYBEKREGECBEWANHINIALTSELFUTAERWPYIIXSIRMIXAELYTOMOTBVEVOFKSBNLMFYYUIPOVTMESMEMAINNHNMARSUYTAEORLSTEZATMVYGCMORWBOZWXARIPUXTHFTLEVOOLPHIRYGNWTHISOVPHSEHLSOMFORELVKHTVISULOSBDERTCIAETOAHUZAELOXHYXSIECMEMJOPHERTCSELARIGIUDXXCIPNZHTTHYMUTSTLORENXYMOMMTCMAMETLEYLFXCTSFNNAMREWPITSXONXHYORWESGEHJAGTSENXUNHTHIRMVEVIEW\n",
      "\n",
      "\n",
      "\n",
      "- Testing key size: 8\n",
      "- For key size: 8 the key found was: JQOTNXIZ\n",
      "- Decrypted message: \n",
      "THEMORALCOMPONENTOFTHESPACESHIPEARTHMETAPHORISTHEREFORESOMEWHATPARADOXICALITCASTSHUMANSASUNGRATEFULFORGIFTSWHICHINREALITYTHEYNEVERRECEIVEDANDITCASTSALLOTHERSPECIESINMORALLYPOSITIVEROLESINLIFESUPPORTSYSTEMWITHHUMANSASTHEONLYNEGATIVEACTORSBUTWEAREPARTOFTHEBIOSPHEREANDTHESUPPOSEDLYIMMORALBEHAVIOURISIDENTICALTOWHATALLOTHERSPECIESDOWHENTIMESAREGOODEXCEPTTHATHUMANSALONETRYTOMITIGATETHEEFFECTOFTHATRESPONSEONTHEIRDESCENDANTSANDONOTHERSPECIES\n"
     ]
    }
   ],
   "source": [
    "# Attack to find the key\n",
    "for key in keys:\n",
    "    print('- Testing key size: ' + str(key))\n",
    "    \n",
    "    # Split into groups based on the canditate key - We need x groups\n",
    "    key_length = key\n",
    "    groups = []\n",
    "    for group in range(0, key_length):\n",
    "        # Loop through the cipher\n",
    "        inner_group = []\n",
    "        for letter in range(group, len(cipher), key_length):\n",
    "            inner_group.append(cipher[letter])\n",
    "        groups.append(inner_group)\n",
    "        \n",
    "    # Start with an empty key\n",
    "    key_ = ''\n",
    "\n",
    "    # Loop each group\n",
    "    for group in groups:\n",
    "        scores = {}\n",
    "\n",
    "        # For each group, we need to perform exactly 25 shifts\n",
    "        for shift_ in range(0, 26):\n",
    "            # Group's letter frequencies\n",
    "            group_freqs = {}\n",
    "\n",
    "            # Perform a shift\n",
    "            grp = shift(''.join(group), shift_)\n",
    "\n",
    "            # For each letter of the new group\n",
    "            for letter in grp:\n",
    "                # Count the frequencies of this group\n",
    "                group_freqs[letter] = grp.count(letter) / len(grp)\n",
    "\n",
    "            # Calculate the score for this shift\n",
    "            score = calculate_score(group_freqs, english_letter_freqs)\n",
    "\n",
    "            scores[shift_] = score\n",
    "\n",
    "        # Find the correct letter for this group\n",
    "        letter = string.ascii_uppercase[list(scores)[list(scores.values()).index(max(list(scores.values())))]]\n",
    "        key_ = key_ + letter\n",
    "    \n",
    "    # Prints\n",
    "    print('- For key size: ' + str(key) + ' the key found was: ' + str(key_))\n",
    "    print('- Decrypted message: ')\n",
    "    print(decrypt_vigenere(key_, cipher))\n",
    "    \n",
    "    # If this is not the last element, print a double line break\n",
    "    if (keys.index(key) != len(keys) - 1):\n",
    "        print('\\n\\n')"
   ]
  },
  {
   "cell_type": "code",
   "execution_count": null,
   "id": "edac7836",
   "metadata": {},
   "outputs": [],
   "source": []
  }
 ],
 "metadata": {
  "kernelspec": {
   "display_name": "Python 3 (ipykernel)",
   "language": "python",
   "name": "python3"
  },
  "language_info": {
   "codemirror_mode": {
    "name": "ipython",
    "version": 3
   },
   "file_extension": ".py",
   "mimetype": "text/x-python",
   "name": "python",
   "nbconvert_exporter": "python",
   "pygments_lexer": "ipython3",
   "version": "3.8.15"
  }
 },
 "nbformat": 4,
 "nbformat_minor": 5
}
